{
  "cells": [
    {
      "cell_type": "markdown",
      "metadata": {
        "id": "nEE4ejPZr-cs"
      },
      "source": [
        "# Choropleth Map\n",
        "\n",
        "***Summary***\n",
        "- [Load Data](#load_data)\n",
        "- [Data Cleansing](#data-cleansing)\n",
        "- [Display Result](#display-result)\n",
        "\n",
        "A choropleth map is a thematic map that uses colors to visualize an aggregate summary of a geographic characteristic within spatial units. Choropleth maps provide an easy way to visualize how a variable varies across a geographic area or show the level of variability within a region.\n",
        "\n",
        "In this Jupyter Notebook we will visualize the election turnout for the 2019 National Council elections (Nationalratswahlen) in each municipality in the canton St. Gallen.\n",
        "The geometric / geographic data is provided by [seantis gmbh](https://www.seantis.ch/). The topoJSON file with all municipalities of the canton St. Gallen can be downloaded [here](https://github.com/OneGov/onegov-cloud/tree/master/src/onegov/election_day/static/mapdata).\n",
        "The results of the elections 2019 can be downloaded [here](https://wab.sg.ch/election/erneuerungswahl-des-nationalrates-2/data).\n",
        "\n",
        "In a first step we have to convert the topoJSON file to a GeoJson file because plotly only works with GeoJSON data.\n",
        "Next, the election data needs to be cleansed and merged with the geographic data.\n",
        "\n",
        "Choropleth maps can be created with [GeoPandas](https://geopandas.org/en/stable/index.html) and with [plotly](https://plotly.com/), which is a more interactive form of visualization.\n",
        "\n",
        "First work through the example and try to understand the code. Then you can create other choropleth maps, with different data or for other cantons."
      ]
    },
    {
      "cell_type": "code",
      "source": [
        "!pip install geopandas"
      ],
      "metadata": {
        "id": "YhVEl2jksAQ-"
      },
      "execution_count": null,
      "outputs": []
    },
    {
      "cell_type": "code",
      "execution_count": null,
      "metadata": {
        "id": "q3KBuu_Ur-cy"
      },
      "outputs": [],
      "source": [
        "import geopandas as gpd\n",
        "import pandas as pd\n",
        "import matplotlib.pyplot as plt\n",
        "import plotly.express as px\n",
        "\n",
        "from google.colab import files\n",
        "import io"
      ]
    },
    {
      "cell_type": "markdown",
      "metadata": {
        "id": "1-uycq35r-c0"
      },
      "source": [
        "<a id='load_data'></a>\n",
        "## I. Load Data\n",
        "The geo data are provided as json file and the election results as csv files.\n",
        "The files are available on the script server or you can download them under the following links ([geo data](https://github.com/OneGov/onegov-cloud/tree/master/src/onegov/election_day/static/mapdata) and [election data](https://wab.sg.ch/election/erneuerungswahl-des-nationalrates-2/data))."
      ]
    },
    {
      "cell_type": "markdown",
      "metadata": {
        "id": "bwObbh02r-c1"
      },
      "source": [
        "### Geo Data\n",
        "First, let's load the geo data into a GeoDataFrame and get familiar with its content.\n",
        "The GeoDataFrame consists of three columns, the municipality id, the municipality name, and a representation of the municipalitie's outline, called POLYGON or MULTIPOLYGON.\n",
        "Based on this GeoDataFrame to figure out the northernmost, southernmost, easternmost, and westernmost municipality of St. Gallen."
      ]
    },
    {
      "cell_type": "code",
      "source": [
        "# Upload sg.json as soon as `Choose Files` button appears\n",
        "uploaded_gdf = files.upload()\n",
        "gdf_l = gpd.GeoDataFrame.from_file(io.BytesIO(uploaded_gdf['sg.json']))"
      ],
      "metadata": {
        "id": "Vm3EHpaFsgA4"
      },
      "execution_count": null,
      "outputs": []
    },
    {
      "cell_type": "code",
      "source": [
        "# Print bounds of geopandas\n",
        "north = gdf_l.loc[gdf_l.bounds.miny.argmin(),'name']\n",
        "south = gdf_l.loc[gdf_l.bounds.maxy.argmax(),'name']\n",
        "east = gdf_l.loc[gdf_l.bounds.maxx.argmax(),'name']\n",
        "west = gdf_l.loc[gdf_l.bounds.minx.argmin(),'name']\n",
        "\n",
        "print(gdf_l.head(), end='\\n\\n')\n",
        "\n",
        "print('North: {:s}, South: {:s}, East: {:s}, West: {:s}'.format(north, south, east, west))"
      ],
      "metadata": {
        "id": "HokOw0YxtDRE"
      },
      "execution_count": null,
      "outputs": []
    },
    {
      "cell_type": "markdown",
      "metadata": {
        "id": "7x3T3LRdr-c2"
      },
      "source": [
        "### Election Data\n",
        "Next, we load the election data into a DataFrame and take a look at the column names and the DataFrame content.\n",
        "Clearly not all columns are needed for the calculation of the turnout, moreover some rows are not assigned to any municipality and each municipality occurs several times (several rows). This calls for data cleansing."
      ]
    },
    {
      "cell_type": "code",
      "execution_count": null,
      "metadata": {
        "id": "nHxLLsqAr-c3"
      },
      "outputs": [],
      "source": [
        "# Upload election_data.csv as soon as `Choose Files` button appears\n",
        "uploaded_data = files.upload()\n",
        "data = pd.read_csv(io.BytesIO(uploaded_data['election_data.csv']))\n",
        "\n",
        "print(data.columns)\n",
        "\n",
        "data.head()"
      ]
    },
    {
      "cell_type": "markdown",
      "metadata": {
        "id": "ARoQSf7vr-c4"
      },
      "source": [
        "<a id='data-cleansing'></a>\n",
        "## II. Data Cleansing\n",
        "Next, we need to extract the data we need for the choropleth map and merge both DataFrames into a single DataFrame."
      ]
    },
    {
      "cell_type": "markdown",
      "metadata": {
        "id": "PKTqjVcEr-c5"
      },
      "source": [
        "### Geo Data\n",
        "Using the `plot` method of a GeoDataFrame object, we can display the map which results form the POLYGON and MULTIPOLYGON shapes.\n",
        "In doing so, it turns out that the map is upside down.\n",
        "\n",
        "Furthermore, the GeoDataFrame only contains geometric shapes but no geo-reference (vertices are not provided as longitude latitude positions).\n",
        "This is a problem for plotly choropleth maps, since this only works with geographic coordinates.\n",
        "To fix this, we figure out the coordinates of the northernmost, southernmost, easternmost, and westernmost point in St. Gallen and transform the geometric shapes accordingly."
      ]
    },
    {
      "cell_type": "code",
      "execution_count": null,
      "metadata": {
        "id": "CL-95Wdrr-c5"
      },
      "outputs": [],
      "source": [
        "# Flip map\n",
        "gdf_l.geometry = gdf_l.geometry.scale(1, -1, origin=(0,0))\n",
        "gdf_l.geometry = gdf_l.geometry.translate(-gdf_l.total_bounds[0], -gdf_l.total_bounds[1])\n",
        "\n",
        "_, ax = plt.subplots(1,1)\n",
        "ax.set_title('Municipalities of St. Gallen (not georeferenced)')\n",
        "gdf_l.plot('id', ax=ax)"
      ]
    },
    {
      "cell_type": "code",
      "execution_count": null,
      "metadata": {
        "id": "6Zru3KXAr-c6"
      },
      "outputs": [],
      "source": [
        "# Approx. transformation to geographic coordinates\n",
        "LONG_N = 47.531943\n",
        "LONG_S = 46.872883\n",
        "LAT_E = 9.674830\n",
        "LAT_W = 8.795622\n",
        "\n",
        "x_scale = (LAT_E - LAT_W) / gdf_l.total_bounds[2]\n",
        "y_scale = (LONG_N - LONG_S) / gdf_l.total_bounds[3]\n",
        "\n",
        "gdf_g = gdf_l.copy()\n",
        "gdf_g.geometry = gdf_l.geometry.scale(x_scale, y_scale, origin=(0,0))\n",
        "gdf_g.geometry = gdf_g.geometry.translate(LAT_W, LONG_S)"
      ]
    },
    {
      "cell_type": "code",
      "execution_count": null,
      "metadata": {
        "id": "GZk6kjJRr-c6"
      },
      "outputs": [],
      "source": [
        "# Sort rows by municipality names\n",
        "gdf_g.sort_values('name', inplace=True)\n",
        "gdf_g.reset_index(drop=True, inplace=True)\n",
        "\n",
        "# Drop useless id column\n",
        "gdf_g.drop(['id'], inplace=True, axis=1)\n",
        "gdf_g.head()"
      ]
    },
    {
      "cell_type": "markdown",
      "metadata": {
        "id": "a6UQdO8Xr-c7"
      },
      "source": [
        "### Election Data\n",
        "Using the election DataFrame we calculate the election turnout for each municipality in St. Gallen and append the result as column to the GeoDataFrame."
      ]
    },
    {
      "cell_type": "code",
      "execution_count": null,
      "metadata": {
        "id": "pMS2M1QIr-c7"
      },
      "outputs": [],
      "source": [
        "# Extract only relevant columns\n",
        "data_1 = data.loc[:,['entity_name','entity_eligible_voters','entity_received_ballots']]\n",
        "\n",
        "# Drop all rows which contain a NaN\n",
        "data_1.dropna(inplace=True)\n",
        "\n",
        "# Drop duplicate rows\n",
        "data_1.drop_duplicates(inplace=True)\n",
        "\n",
        "# Sort rows by municipality names\n",
        "data_1.sort_values('entity_name', inplace=True)\n",
        "data_1.reset_index(drop=True, inplace=True)\n",
        "\n",
        "# Calculate election turnout and add new column\n",
        "data_1['entity_turnout'] = data_1['entity_received_ballots'] / data_1['entity_eligible_voters'] * 100\n",
        "\n",
        "data_1.head()"
      ]
    },
    {
      "cell_type": "code",
      "execution_count": null,
      "metadata": {
        "id": "H0t7GVJCr-c7"
      },
      "outputs": [],
      "source": [
        "# Add turnout column to GeoDataFrame\n",
        "gdf_g['turnout'] = data_1['entity_turnout']\n",
        "gdf_g.set_index('name', inplace=True)\n",
        "gdf_g.head()"
      ]
    },
    {
      "cell_type": "markdown",
      "metadata": {
        "id": "scJHBn9Ir-c8"
      },
      "source": [
        "<a id='display-result'></a>\n",
        "## III. Display Result\n",
        "After we prepare the data, we create an interactive plot using plotly.\n",
        "Try to figure out yourself, how to apply and improve such a choropleth map plot by plotly (see [here](https://plotly.com/python/choropleth-maps/) and [here](https://plotly.github.io/plotly.py-docs/generated/plotly.express.choropleth.html))."
      ]
    },
    {
      "cell_type": "code",
      "execution_count": null,
      "metadata": {
        "id": "CHHS2UJ-r-c9"
      },
      "outputs": [],
      "source": [
        "fig = px.choropleth(gdf_g,\n",
        "                    geojson=gdf_g.geometry,\n",
        "                    locations=gdf_g.index,\n",
        "                    color='turnout',\n",
        "                    hover_name=gdf_g.index,\n",
        "                    hover_data=['turnout'],\n",
        "                    color_continuous_scale='greens',\n",
        "                    # range_color=(30, 60),\n",
        "                    projection='mercator',\n",
        "                    title='Election Turnout St. Gallen')\n",
        "fig.update_geos(fitbounds='locations', visible=False)\n",
        "fig.update_layout(margin={\"r\":0,\"t\":50,\"l\":0,\"b\":0})\n",
        "fig.show()"
      ]
    }
  ],
  "metadata": {
    "kernelspec": {
      "display_name": "Python 3",
      "language": "python",
      "name": "python3"
    },
    "language_info": {
      "codemirror_mode": {
        "name": "ipython",
        "version": 3
      },
      "file_extension": ".py",
      "mimetype": "text/x-python",
      "name": "python",
      "nbconvert_exporter": "python",
      "pygments_lexer": "ipython3",
      "version": "3.6.9"
    },
    "vscode": {
      "interpreter": {
        "hash": "747131c1b9b3e4ac9b17fc6ae0b784c32121a8c91b4324a16e14e5d85f0a17bd"
      }
    },
    "colab": {
      "provenance": [],
      "collapsed_sections": []
    }
  },
  "nbformat": 4,
  "nbformat_minor": 0
}