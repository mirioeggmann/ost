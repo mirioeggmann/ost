{
  "cells": [
    {
      "cell_type": "markdown",
      "metadata": {
        "id": "FuVoJAE6z2S5"
      },
      "source": [
        "# Linear Regression\n",
        "\n",
        "***Summary***\n",
        "- [Energy Data](#energy-data) <br>\n",
        "- [Radiation Data](#radiation-data) <br>\n",
        "- [Fit Simple Sinear Regression Model](#fit-simple-linear-regression-model) <br>\n",
        "- [Visualize Results](#visualize-results) <br>\n",
        "\n",
        "In this Jupyter Notebook you get the chance to apply your knowledge in linear regression that acquired in lecture 1 to 4.\n",
        "We will regress the power production of the solar plants in St. Gallen on the global (solar) radiation measured near the solar plants.<br><br>\n",
        "The data on the solar plants is provided by Open Data and can be found [here](https://daten.stadt.sg.ch/explore/dataset/stromproduktion-der-solaranlagen-der-stgaller-stadtwerke/table/?disjunctive.name&disjunctive.smart_me_name&disjunctive.modultyp&disjunctive.leistung_modul_in_wp).<br>\n",
        "The weather data (global radiation in St.Gallen) was provided by [MeteoSchweiz](https://www.meteoschweiz.admin.ch/home.html?tab=overview) and is not publicly available.<br><br>\n",
        "The intention is to find out if there is a relationship between the global radiation (measured in $W/m^2$) and the energy export of the solar plants (measured in $Wh$).\n",
        "The granularity of the radiation data is 10 minutes and that of the energy export data is 15 minutes."
      ]
    },
    {
      "cell_type": "code",
      "execution_count": null,
      "metadata": {
        "id": "x0t82WCxz2S6"
      },
      "outputs": [],
      "source": [
        "# Import libraries\n",
        "%matplotlib inline\n",
        "\n",
        "import pandas as pd\n",
        "import matplotlib.pyplot as plt\n",
        "import numpy as np\n",
        "\n",
        "from google.colab import files\n",
        "import io"
      ]
    },
    {
      "cell_type": "markdown",
      "metadata": {
        "id": "9bby_bJQz2S7"
      },
      "source": [
        "<a id='energy-data'></a>\n",
        "## I. Energy Data\n",
        "We load the power plant data into a pandas dataframe.\n",
        "Pandas is a fast, powerful, flexible and easy to use open source data analysis and manipulation tool, which is often used in machine learning to preprocess raw data.<br><br>\n",
        "First, the timestamp of the measurements is converted to datetime and the rows are sorted by this timestamp.\n",
        "`head(2)` is used to display the first two rows of the pandas dataframe."
      ]
    },
    {
      "cell_type": "code",
      "source": [
        "# Upload stromproduktion-der-solaranlagen-der-stgaller-stadtwerke.csv as soon as `Choose Files` button appears\n",
        "uploaded_data = files.upload()\n",
        "df_e = pd.read_csv(io.BytesIO(uploaded_data['stromproduktion-der-solaranlagen-der-stgaller-stadtwerke.csv']), sep=';')"
      ],
      "metadata": {
        "id": "CD3BSmfE0F-3"
      },
      "execution_count": null,
      "outputs": []
    },
    {
      "cell_type": "code",
      "execution_count": null,
      "metadata": {
        "id": "RPnhiD-Nz2S7"
      },
      "outputs": [],
      "source": [
        "df_e['DateTime (Local Time)'] = pd.to_datetime(df_e['DateTime (Local Time)']).dt.tz_convert('UTC')\n",
        "df_e.sort_values(by=['DateTime (Local Time)'], inplace=True)\n",
        "df_e.head(2)"
      ]
    },
    {
      "cell_type": "markdown",
      "metadata": {
        "id": "LY32PYYvz2S7"
      },
      "source": [
        "As you can see below, there are 11 different solar power plants and 12 different electricity meters.<br>\n",
        "In this tutorial, only the plant/meter combination with the most data is considered.\n",
        "We therefore select the subset of data from the power plant `Kirche Halden` with meter ID `f1bd39a3-7324-8f4b-bd05-00ba6719ca6f` (df_e_subset_1).\n",
        "Moreover, the columns with useless information are omitted (df_e_subset_2)."
      ]
    },
    {
      "cell_type": "code",
      "execution_count": null,
      "metadata": {
        "id": "_iNpJuoKz2S7"
      },
      "outputs": [],
      "source": [
        "sorted_locations = df_e.groupby(['Name','smart-me ID']).size().sort_values(ascending=False)\n",
        "sorted_locations"
      ]
    },
    {
      "cell_type": "code",
      "execution_count": null,
      "metadata": {
        "id": "qD8GqCzVz2S7"
      },
      "outputs": [],
      "source": [
        "max_count_name, max_count_id = sorted_locations.first_valid_index()"
      ]
    },
    {
      "cell_type": "code",
      "execution_count": null,
      "metadata": {
        "id": "q4IN6d7oz2S8"
      },
      "outputs": [],
      "source": [
        "df_e_subset_1 = df_e.loc[(df_e['Name']==max_count_name) & (df_e['smart-me ID']==max_count_id)]\n",
        "df_e_subset_1.sort_values(by=['DateTime (Local Time)'], inplace=True)\n",
        "df_e_subset_1.reset_index(drop=True, inplace=True)\n",
        "df_e_subset_1.head(2)"
      ]
    },
    {
      "cell_type": "code",
      "execution_count": null,
      "metadata": {
        "id": "6DMuS7eIz2S8"
      },
      "outputs": [],
      "source": [
        "tmp = df_e_subset_1.loc[:,['DateTime (Local Time)','Additional Energy Export']].copy()\n",
        "df_e_subset_2 = tmp.rename(columns={'DateTime (Local Time)':'date',\n",
        "                                    'Additional Energy Export': 'energy'})\n",
        "df_e_subset_2.set_index('date', drop=True, inplace=True)\n",
        "df_e_subset_2.head()"
      ]
    },
    {
      "cell_type": "markdown",
      "metadata": {
        "id": "5cXz897dz2S8"
      },
      "source": [
        "We visualize the last week of recording of the resulting time series df_e_subset_2.\n",
        "As you can see, there is a clear difference between day and night, which was to be expected."
      ]
    },
    {
      "cell_type": "code",
      "execution_count": null,
      "metadata": {
        "id": "ocfRYPOPz2S8"
      },
      "outputs": [],
      "source": [
        "mask = (df_e_subset_2.index > df_e_subset_2.index[-1]-pd.DateOffset(days=7))\n",
        "df_e_subset_2.loc[mask].plot(figsize=(15,5), ylabel='Energy Export [Wh]')"
      ]
    },
    {
      "cell_type": "markdown",
      "metadata": {
        "id": "cOB8nQRsz2S8"
      },
      "source": [
        "<a id='radiation-data'></a>\n",
        "## II. Radiation Data\n",
        "Next, we load and prepare the dataset containing the global radiation measured at a weather station in St. Gallen.\n",
        "This data set was kindly provided by MeteoSwiss for this purpose only.<br><br>\n",
        "Again, we load the dataset into a pandas dataframe, convert the timestamp to datetime and sort the rows.\n",
        "The result is a time series called df_r_subset_1 which contains the radiation value ($W/m^2$) in St. Gallen, averaged over 10 minutes."
      ]
    },
    {
      "cell_type": "code",
      "source": [
        "# Upload Global_Radiation_STG.csv as soon as `Choose Files` button appears\n",
        "uploaded_data = files.upload()\n",
        "df_r = pd.read_csv(io.BytesIO(uploaded_data['Global_Radiation_STG.csv']), sep=';')"
      ],
      "metadata": {
        "id": "k7xj7nPN0a-L"
      },
      "execution_count": null,
      "outputs": []
    },
    {
      "cell_type": "code",
      "execution_count": null,
      "metadata": {
        "id": "NJByXxv8z2S9"
      },
      "outputs": [],
      "source": [
        "df_r['time'] = pd.to_datetime(df_r['time'], format='%Y%m%d%H%M').dt.tz_localize('UTC')\n",
        "df_r.sort_values(by=['time'], inplace=True)\n",
        "df_r.head()"
      ]
    },
    {
      "cell_type": "code",
      "execution_count": null,
      "metadata": {
        "id": "fSiZWcMTz2S9"
      },
      "outputs": [],
      "source": [
        "df_r_subset_1 = df_r.loc[:,['time', 'gre000z0']].copy()\n",
        "df_r_subset_1.rename({'time':'date',\n",
        "                      'gre000z0':'radiation'}, inplace=True, axis=1)\n",
        "df_r_subset_1.set_index('date', drop=True, inplace=True)\n",
        "df_r_subset_1.head(2)"
      ]
    },
    {
      "cell_type": "markdown",
      "metadata": {
        "id": "ioqC77rYz2S9"
      },
      "source": [
        "If we visualize the time series df_r_subset_1 for the last week of the solar energy time series, we can see that these time series look quite similar (except for a factor).<br><br>\n",
        "Because these two time series (radiation and energy) were captured with different time granularity (10min and 15min intervals), with different starting and ending times, we must first match the timestamps.\n",
        "This is done by selecting the radiation sample whose timestamp is closest to the energy timestamp (matching the radiation dataframe to the energy dataframe), using the `reindex()` function.\n",
        "We then merge these two time series into one data frame df_merge."
      ]
    },
    {
      "cell_type": "code",
      "execution_count": null,
      "metadata": {
        "id": "JnLpnD46z2S9"
      },
      "outputs": [],
      "source": [
        "mask = (df_r_subset_1.index > df_e_subset_2.index[-1]-pd.DateOffset(days=7)) & (df_r_subset_1.index < df_e_subset_2.index[-1])"
      ]
    },
    {
      "cell_type": "code",
      "execution_count": null,
      "metadata": {
        "id": "_09PlkYRz2S9"
      },
      "outputs": [],
      "source": [
        "mask = (df_r_subset_1.index > df_e_subset_2.index[-1]-pd.DateOffset(days=7)) & (df_r_subset_1.index < df_e_subset_2.index[-1])\n",
        "df_r_subset_1.loc[mask].plot(figsize=(15,5), ylabel='Radiation [W/m2]')"
      ]
    },
    {
      "cell_type": "code",
      "execution_count": null,
      "metadata": {
        "id": "jVhtebRnz2S9"
      },
      "outputs": [],
      "source": [
        "df_r_subset_2 = df_r_subset_1.reindex(df_e_subset_2.index, method='nearest', tolerance=pd.Timedelta(8,'T'))\n",
        "df_r_subset_2.head()"
      ]
    },
    {
      "cell_type": "code",
      "execution_count": null,
      "metadata": {
        "id": "4aWXmWTBz2S9"
      },
      "outputs": [],
      "source": [
        "df_merge = pd.DataFrame({'energy':df_e_subset_2.energy,\n",
        "                         'radiation':df_r_subset_2.radiation}, index=df_r_subset_2.index)\n",
        "df_merge.head()"
      ]
    },
    {
      "cell_type": "markdown",
      "metadata": {
        "id": "RPHjAf_Iz2S-"
      },
      "source": [
        "Plotting these two time series side by side reveals that there is a shift error between them.\n",
        "Do you know where this error comes from?\n",
        "Can you fix this problem?\n"
      ]
    },
    {
      "cell_type": "code",
      "execution_count": null,
      "metadata": {
        "id": "FOlmiwaUz2S-"
      },
      "outputs": [],
      "source": [
        "df_merge.iloc[:500].plot(figsize=(25,5), subplots=True)"
      ]
    },
    {
      "cell_type": "markdown",
      "metadata": {
        "id": "nTsGLOmMz2S-"
      },
      "source": [
        "<a id='fit-simple-linear-regression-model'></a>\n",
        "## III. Fit Simple Linear Regression Model\n",
        "Next, we split the dataframe into a training dataset and a testing dataset with sklearn's [train_test_split](https://scikit-learn.org/stable/modules/generated/sklearn.model_selection.train_test_split.html) function.<br><br>\n",
        "We will train a simple linear regression model based on the training dataset, using [statsmodels](https://www.statsmodels.org/stable/regression.html) and display some aspects of the of the linear model fit using [statsmodels.graphics](https://www.statsmodels.org/stable/examples/notebooks/generated/regression_plots.html)."
      ]
    },
    {
      "cell_type": "code",
      "execution_count": null,
      "metadata": {
        "id": "VlPxUIWGz2S-"
      },
      "outputs": [],
      "source": [
        "from sklearn.model_selection import train_test_split\n",
        "X_train, X_test = train_test_split(df_merge, test_size=0.33, random_state=42)"
      ]
    },
    {
      "cell_type": "code",
      "execution_count": null,
      "metadata": {
        "id": "rK_amrsdz2S-"
      },
      "outputs": [],
      "source": [
        "X_train.plot(x='radiation', y='energy', kind='scatter')"
      ]
    },
    {
      "cell_type": "code",
      "execution_count": null,
      "metadata": {
        "id": "iJnqQ7aJz2S-"
      },
      "outputs": [],
      "source": [
        "import statsmodels.formula.api as smf\n",
        "\n",
        "mod = smf.ols(formula='energy ~ radiation', data=X_train)\n",
        "res = mod.fit()\n",
        "print(res.summary())"
      ]
    },
    {
      "cell_type": "code",
      "execution_count": null,
      "metadata": {
        "id": "RtJGrUkGz2S_"
      },
      "outputs": [],
      "source": [
        "import statsmodels.api as sm\n",
        "X_test = sm.add_constant(X_test)\n",
        "ynewpred = res.predict(X_test)\n",
        "\n",
        "rms_test = np.mean(np.square(ynewpred - X_test.energy))\n",
        "rms_test"
      ]
    },
    {
      "cell_type": "markdown",
      "metadata": {
        "id": "Vn7Gimk1z2S_"
      },
      "source": [
        "<a id='visualize-results'></a>\n",
        "## IV. Visualize Results\n",
        "Next, we visualize the Component-Component+Residual plot (more details are provided [here](https://www.statsmodels.org/stable/examples/notebooks/generated/regression_plots.html)) and the resulting least-square fit, together with the test dataset."
      ]
    },
    {
      "cell_type": "code",
      "execution_count": null,
      "metadata": {
        "id": "-zb2HxjFz2S_"
      },
      "outputs": [],
      "source": [
        "fig, ax = plt.subplots()\n",
        "ax.plot(X_train.radiation, X_train.energy, '.', label='Training Data')\n",
        "ax.plot(np.linspace(0,1200,100), np.linspace(0,1000,100)*res.params['radiation'], label='Learned Model')\n",
        "ax.legend(loc=\"best\")\n",
        "ax.set_title('Training Dataset')\n",
        "ax.set_xlabel(r'Radiation [$W/m^2$]')\n",
        "ax.set_ylabel('Power [$Wh / \\Delta t$]')"
      ]
    },
    {
      "cell_type": "code",
      "execution_count": null,
      "metadata": {
        "id": "AEYYtPPaz2S_"
      },
      "outputs": [],
      "source": [
        "fig, ax = plt.subplots()\n",
        "ax.plot(X_test.radiation, X_test.energy, '.', label='Test Data')\n",
        "ax.plot(np.linspace(0,1200,100), np.linspace(0,1000,100)*res.params['radiation'], label='Learned Model')\n",
        "ax.legend(loc=\"best\")\n",
        "ax.set_title('Test Dataset')\n",
        "ax.set_xlabel(r'Radiation [$W/m^2$]')\n",
        "ax.set_ylabel('Power [$Wh / \\Delta t$]')"
      ]
    }
  ],
  "metadata": {
    "kernelspec": {
      "display_name": "Python 3.6.9 ('venv')",
      "language": "python",
      "name": "python3"
    },
    "language_info": {
      "codemirror_mode": {
        "name": "ipython",
        "version": 3
      },
      "file_extension": ".py",
      "mimetype": "text/x-python",
      "name": "python",
      "nbconvert_exporter": "python",
      "pygments_lexer": "ipython3",
      "version": "3.6.9"
    },
    "vscode": {
      "interpreter": {
        "hash": "747131c1b9b3e4ac9b17fc6ae0b784c32121a8c91b4324a16e14e5d85f0a17bd"
      }
    },
    "colab": {
      "provenance": [],
      "collapsed_sections": []
    }
  },
  "nbformat": 4,
  "nbformat_minor": 0
}